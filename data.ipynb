{
 "cells": [
  {
   "cell_type": "code",
   "execution_count": 180,
   "metadata": {},
   "outputs": [],
   "source": [
    "import polars as pl\n",
    "from sklearn.decomposition import PCA\n",
    "from sklearn.model_selection import train_test_split\n",
    "from sklearn.metrics import mean_absolute_error\n",
    "from xgboost import XGBRegressor\n",
    "import gc\n",
    "import time"
   ]
  },
  {
   "cell_type": "code",
   "execution_count": 181,
   "metadata": {},
   "outputs": [],
   "source": [
    "# Step 1: Read Data with Lags\n",
    "def read_data_with_lags(current_file_path, previous_file_path, columns_needed, lag_column=\"responder_6\", lag_name=\"responder_6_lag_1\", length = 5000):\n",
    "    \"\"\"Read the current file and add lagged data from the previous file.\"\"\"\n",
    "    # Read current data\n",
    "    current_file = pl.scan_parquet(current_file_path).select(columns_needed).head(length).collect()\n",
    "    \n",
    "    # If there is a previous file, add lagged data\n",
    "    if previous_file_path:\n",
    "        previous_file = pl.scan_parquet(previous_file_path).select([\"time_id\", lag_column]).head(length).collect()\n",
    "        lagged_data = previous_file.rename({lag_column: lag_name})\n",
    "        current_file = current_file.join(lagged_data, on=\"time_id\", how=\"left\")\n",
    "    \n",
    "    return current_file\n",
    "\n",
    "# Step 2: Clean Data\n",
    "def clean_data(df):\n",
    "    \"\"\"Clean the data by handling missing values.\"\"\"\n",
    "    if isinstance(df, pl.DataFrame):\n",
    "        df = df.fill_null(strategy=\"backward\").fill_null(strategy=\"forward\").fill_null(0)\n",
    "    else:\n",
    "        raise TypeError(\"The input is not a Polars DataFrame.\")\n",
    "    return df\n",
    "\n",
    "# Step 3: Preprocess Data\n",
    "def preprocess_data(df, target_column='responder_6', n_components=0.95):\n",
    "    \"\"\"Apply PCA to reduce dimensions.\"\"\"\n",
    "    # Drop the target column and convert to numpy\n",
    "    X = df.drop(target_column).to_numpy()\n",
    "    y = df[target_column].to_numpy()\n",
    "\n",
    "    # Apply PCA\n",
    "    pca = PCA(n_components=n_components)\n",
    "    X_pca = pca.fit_transform(X)\n",
    "    return X_pca, y\n",
    "\n",
    "# Step 4: Anonymize\n",
    "def anonymize(file): \n",
    "    return file"
   ]
  },
  {
   "cell_type": "code",
   "execution_count": 182,
   "metadata": {},
   "outputs": [],
   "source": [
    "from xgboost import XGBRegressor\n",
    "\n",
    "def select_features_by_importance(df, target_column='responder_6', threshold=0.01):\n",
    " \n",
    "    X = df.drop(target_column).to_pandas()\n",
    "    y = df[target_column].to_pandas()\n",
    "    \n",
    "    # Train a temporary XGBoost model to get feature importance\n",
    "    model = XGBRegressor(objective='reg:squarederror', n_estimators=50, random_state=42)\n",
    "    model.fit(X, y)\n",
    "    \n",
    "    # Get feature importance\n",
    "    feature_importances = model.feature_importances_\n",
    "    important_features = X.columns[feature_importances >= threshold]\n",
    "    \n",
    "    # Filter the original DataFrame for these features\n",
    "    filtered_df = df.select(list(important_features) + [target_column])\n",
    "    return filtered_df\n"
   ]
  },
  {
   "cell_type": "markdown",
   "metadata": {},
   "source": [
    "Model Functions"
   ]
  },
  {
   "cell_type": "code",
   "execution_count": 183,
   "metadata": {},
   "outputs": [],
   "source": [
    "# Step 5: Train Model\n",
    "from sklearn.model_selection import cross_val_score\n",
    "\n",
    "def train_XGB(X, y):\n",
    "    \"\"\"Train the model using XGBoost.\"\"\"\n",
    "    X_train, X_test, y_train, y_test = train_test_split(X, y, test_size=0.2, random_state=42)\n",
    "    model = XGBRegressor(objective='reg:squarederror', n_estimators=100, random_state=42)\n",
    "    cv_scores = cross_val_score(model, X, y, cv=5, scoring='neg_mean_absolute_error')\n",
    "    mean_mae = -np.mean(cv_scores)\n",
    "    print(f\"Cross-Validated Mean Absolute Error (MAE): {mean_mae}\")\n",
    "    \n",
    "    model.fit(X_train, y_train)\n",
    "    y_pred = model.predict(X_test)\n",
    "    mae = mean_absolute_error(y_test, y_pred)\n",
    "    print(f\"Mean Absolute Error (MAE): {mae}\")\n",
    "    return model"
   ]
  },
  {
   "cell_type": "code",
   "execution_count": 184,
   "metadata": {},
   "outputs": [],
   "source": [
    "def train_SVM():\n",
    "    pass"
   ]
  },
  {
   "cell_type": "code",
   "execution_count": null,
   "metadata": {},
   "outputs": [],
   "source": [
    "def pipeline(current_file_path, previous_file_path, columns_needed ,model, counter):\n",
    "\n",
    "    start_time = time.time()\n",
    "    df = read_data_with_lags(current_file_path, previous_file_path, columns_needed)\n",
    "    df = clean_data(df)\n",
    "    df = anonymize(df)\n",
    "    df = select_features_by_importance(df, target_column='responder_6', threshold=0.001)\n",
    "\n",
    "    X, y = preprocess_data(df, target_column='responder_6', n_components=0.95)\n",
    "    \n",
    "    if model =='XGB':\n",
    "        model = train_XGB(X, y)\n",
    "    elif model == 'SVM': \n",
    "        mode = train_SVM(X,y)\n",
    "    else: \n",
    "        raise NameError('Model name not found')\n",
    "\n",
    "    # Clear memory\n",
    "    del df, X, y\n",
    "    gc.collect()  # Force garbage collection\n",
    "    \n",
    "    end_time = time.time()\n",
    "    print(f\"Finished processing file {counter+1}/{len(file_paths)} in {end_time - start_time:.2f} seconds\\n\")\n",
    "    \n",
    "    # Update previous file path\n",
    "    previous_file_path = current_file_path\n",
    "\n",
    "    return previous_file_path, model\n"
   ]
  },
  {
   "cell_type": "code",
   "execution_count": 186,
   "metadata": {},
   "outputs": [],
   "source": [
    "columns_needed = [\n",
    "    'date_id', 'time_id', 'symbol_id', 'weight', 'feature_00', 'feature_01',\n",
    "    'feature_02', 'feature_03', 'feature_04', 'feature_05', 'feature_06',\n",
    "    'feature_07', 'feature_08', 'feature_09', 'feature_10', 'feature_11',\n",
    "    'feature_12', 'feature_13', 'feature_14', 'feature_15', 'feature_16',\n",
    "    'feature_17', 'feature_18', 'feature_19', 'feature_20', 'feature_21',\n",
    "    'feature_22', 'feature_23', 'feature_24', 'feature_25', 'feature_26',\n",
    "    'feature_27', 'feature_28', 'feature_29', 'feature_30', 'feature_31',\n",
    "    'feature_32', 'feature_33', 'feature_34', 'feature_35', 'feature_36',\n",
    "    'feature_37', 'feature_38', 'feature_39', 'feature_40', 'feature_41',\n",
    "    'feature_42', 'feature_43', 'feature_44', 'feature_45', 'feature_46',\n",
    "    'feature_47', 'feature_48', 'feature_49', 'feature_50', 'feature_51',\n",
    "    'feature_52', 'feature_53', 'feature_54', 'feature_55', 'feature_56',\n",
    "    'feature_57', 'feature_58', 'feature_59', 'feature_60', 'feature_61',\n",
    "    'feature_62', 'feature_63', 'feature_64', 'feature_65', 'feature_66',\n",
    "    'feature_67', 'feature_68', 'feature_69', 'feature_70', 'feature_71',\n",
    "    'feature_72', 'feature_73', 'feature_74', 'feature_75', 'feature_76',\n",
    "    'feature_77', 'feature_78', 'responder_6'\n",
    "]"
   ]
  },
  {
   "cell_type": "markdown",
   "metadata": {},
   "source": [
    "Call Functions "
   ]
  },
  {
   "cell_type": "code",
   "execution_count": 187,
   "metadata": {},
   "outputs": [
    {
     "name": "stdout",
     "output_type": "stream",
     "text": [
      "Cross-Validated Mean Absolute Error (MAE): 0.5403464436531067\n",
      "Mean Absolute Error (MAE): 0.18809212744235992\n",
      "Finished processing file 1/10 in 1.47 seconds\n",
      "\n",
      "Cross-Validated Mean Absolute Error (MAE): 0.760183310508728\n",
      "Mean Absolute Error (MAE): 0.15672925114631653\n",
      "Finished processing file 2/10 in 1.62 seconds\n",
      "\n",
      "Cross-Validated Mean Absolute Error (MAE): 0.8766644120216369\n",
      "Mean Absolute Error (MAE): 0.1739712655544281\n",
      "Finished processing file 3/10 in 1.95 seconds\n",
      "\n",
      "Cross-Validated Mean Absolute Error (MAE): 0.9394318580627441\n",
      "Mean Absolute Error (MAE): 0.1807750016450882\n",
      "Finished processing file 4/10 in 1.97 seconds\n",
      "\n",
      "Cross-Validated Mean Absolute Error (MAE): 1.0900036454200746\n",
      "Mean Absolute Error (MAE): 0.230383962392807\n",
      "Finished processing file 5/10 in 2.01 seconds\n",
      "\n",
      "Cross-Validated Mean Absolute Error (MAE): 0.5448825597763062\n",
      "Mean Absolute Error (MAE): 0.11643332988023758\n",
      "Finished processing file 6/10 in 2.02 seconds\n",
      "\n",
      "Cross-Validated Mean Absolute Error (MAE): 0.8487887978553772\n",
      "Mean Absolute Error (MAE): 0.20810644328594208\n",
      "Finished processing file 7/10 in 2.09 seconds\n",
      "\n",
      "Cross-Validated Mean Absolute Error (MAE): 1.256180191040039\n",
      "Mean Absolute Error (MAE): 0.2530061602592468\n",
      "Finished processing file 8/10 in 2.07 seconds\n",
      "\n",
      "Cross-Validated Mean Absolute Error (MAE): 0.8278590679168701\n",
      "Mean Absolute Error (MAE): 0.17746970057487488\n",
      "Finished processing file 9/10 in 2.17 seconds\n",
      "\n",
      "Cross-Validated Mean Absolute Error (MAE): 0.6582077860832214\n",
      "Mean Absolute Error (MAE): 0.14538277685642242\n",
      "Finished processing file 10/10 in 2.19 seconds\n",
      "\n"
     ]
    },
    {
     "data": {
      "text/plain": [
       "\"previous_file_path = None\\nfor i, current_file_path in enumerate(file_paths):\\n    previous_file_p''ath, model = pipeline(current_file_path, previous_file_path, columns_needed, 'SVM', i)\""
      ]
     },
     "execution_count": 187,
     "metadata": {},
     "output_type": "execute_result"
    }
   ],
   "source": [
    "\n",
    "# Jupyter Notebook - File Paths \n",
    "file_paths = [\n",
    "    f\"/Users/elireadnour/Documents/Computer/Classes/machineLearning/MLFinal/jane-street-real-time-market-data-forecasting/train.parquet/partition_id={i}/part-0.parquet\" for i in range(10)]\n",
    "\n",
    "# Train XGB with PCA via pipeline without storing all in memory\n",
    "previous_file_path = None\n",
    "for i, current_file_path in enumerate(file_paths):\n",
    "    previous_file_path, model = pipeline(current_file_path, previous_file_path, columns_needed, 'XGB', i)\n",
    "\n",
    "# Train SVM with PCA via pipeline without storing all in memory\n",
    "'''previous_file_path = None\n",
    "for i, current_file_path in enumerate(file_paths):\n",
    "    previous_file_p''ath, model = pipeline(current_file_path, previous_file_path, columns_needed, 'SVM', i)'''"
   ]
  },
  {
   "cell_type": "code",
   "execution_count": 188,
   "metadata": {},
   "outputs": [],
   "source": [
    "# git add .\n",
    "# git commit -m \"commit message\"\n",
    "# git push origin main"
   ]
  }
 ],
 "metadata": {
  "kernelspec": {
   "display_name": "base",
   "language": "python",
   "name": "python3"
  },
  "language_info": {
   "codemirror_mode": {
    "name": "ipython",
    "version": 3
   },
   "file_extension": ".py",
   "mimetype": "text/x-python",
   "name": "python",
   "nbconvert_exporter": "python",
   "pygments_lexer": "ipython3",
   "version": "3.12.3"
  }
 },
 "nbformat": 4,
 "nbformat_minor": 2
}
