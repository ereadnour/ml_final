{
 "cells": [
  {
   "cell_type": "code",
   "execution_count": 57,
   "metadata": {},
   "outputs": [],
   "source": [
    "import polars as pl\n",
    "from sklearn.decomposition import PCA\n",
    "from sklearn.model_selection import train_test_split\n",
    "from sklearn.metrics import mean_absolute_error, accuracy_score\n",
    "from xgboost import XGBRegressor\n",
    "import gc\n",
    "import time\n",
    "import sys\n",
    "from tqdm import tqdm  # For progress bar"
   ]
  },
  {
   "cell_type": "code",
   "execution_count": 58,
   "metadata": {},
   "outputs": [],
   "source": [
    "# Step 1: Read Data with Lags\n",
    "def read_data_with_lags(current_file_path, previous_file_path, columns_needed, lag_column=\"responder_6\", lag_name=\"responder_6_lag_1\", length = 5000):\n",
    "    \"\"\"Read the current file and add lagged data from the previous file.\"\"\"\n",
    "    # Read current data\n",
    "    current_file = pl.scan_parquet(current_file_path).select(columns_needed).head(length).collect()\n",
    "    \n",
    "    # If there is a previous file, add lagged data\n",
    "    if previous_file_path:\n",
    "        previous_file = pl.scan_parquet(previous_file_path).select([\"time_id\", lag_column]).head(length).collect()\n",
    "        lagged_data = previous_file.rename({lag_column: lag_name})\n",
    "        current_file = current_file.join(lagged_data, on=\"time_id\", how=\"left\")\n",
    "    \n",
    "    return current_file\n",
    "\n",
    "# Step 2: Clean Data\n",
    "def clean_data(df):\n",
    "    \"\"\"Clean the data by handling missing values.\"\"\"\n",
    "    if isinstance(df, pl.DataFrame):\n",
    "        df = df.fill_null(strategy=\"backward\").fill_null(strategy=\"forward\").fill_null(0)\n",
    "    else:\n",
    "        raise TypeError(\"The input is not a Polars DataFrame.\")\n",
    "    return df\n",
    "\n",
    "# Placeholder function for anonymizing data\n",
    "def anonomyize(df):\n",
    "    pass\n",
    "\n",
    "# Step 3: Preprocess Data\n",
    "def preprocess_data(df, target_column='responder_6', n_components=0.95):\n",
    "    \"\"\"Apply PCA to reduce dimensions.\"\"\"\n",
    "    # Drop the target column and convert to numpy\n",
    "    X = df.drop(target_column).to_numpy()\n",
    "    y = df[target_column].to_numpy()\n",
    "\n",
    "    # Apply PCA\n",
    "    pca = PCA(n_components=n_components)\n",
    "    X_pca = pca.fit_transform(X)\n",
    "    return X_pca, y\n",
    "\n",
    "# Step 4: Anonymize\n",
    "def anonymize(file): \n",
    "    return file"
   ]
  },
  {
   "cell_type": "markdown",
   "metadata": {},
   "source": [
    "XGB with PCA"
   ]
  },
  {
   "cell_type": "code",
   "execution_count": 59,
   "metadata": {},
   "outputs": [],
   "source": [
    "# Step 5: Train Model\n",
    "def train_model(X, y):\n",
    "    \"\"\"Train the model using XGBoost.\"\"\"\n",
    "    X_train, X_test, y_train, y_test = train_test_split(X, y, test_size=0.2, random_state=42)\n",
    "    model = XGBRegressor(objective='reg:squarederror', n_estimators=100, random_state=42)\n",
    "    model.fit(X_train, y_train)\n",
    "    y_pred = model.predict(X_test)\n",
    "    mae = mean_absolute_error(y_test, y_pred)\n",
    "    print(f\"Mean Absolute Error (MAE): {mae}\")\n",
    "    return model\n"
   ]
  },
  {
   "cell_type": "markdown",
   "metadata": {},
   "source": [
    "Call Functions "
   ]
  },
  {
   "cell_type": "code",
   "execution_count": 60,
   "metadata": {},
   "outputs": [
    {
     "name": "stderr",
     "output_type": "stream",
     "text": [
      "Processing Files:  10%|█         | 1/10 [00:00<00:04,  2.07it/s]"
     ]
    },
    {
     "name": "stdout",
     "output_type": "stream",
     "text": [
      "Mean Absolute Error (MAE): 0.18809212744235992\n",
      "Finished processing file 1/10 in 0.48 seconds\n",
      "\n"
     ]
    },
    {
     "name": "stderr",
     "output_type": "stream",
     "text": [
      "Processing Files:  20%|██        | 2/10 [00:00<00:03,  2.02it/s]"
     ]
    },
    {
     "name": "stdout",
     "output_type": "stream",
     "text": [
      "Mean Absolute Error (MAE): 0.15672925114631653\n",
      "Finished processing file 2/10 in 0.50 seconds\n",
      "\n"
     ]
    },
    {
     "name": "stderr",
     "output_type": "stream",
     "text": [
      "Processing Files:  30%|███       | 3/10 [00:01<00:03,  1.86it/s]"
     ]
    },
    {
     "name": "stdout",
     "output_type": "stream",
     "text": [
      "Mean Absolute Error (MAE): 0.1739712655544281\n",
      "Finished processing file 3/10 in 0.59 seconds\n",
      "\n"
     ]
    },
    {
     "name": "stderr",
     "output_type": "stream",
     "text": [
      "Processing Files:  40%|████      | 4/10 [00:02<00:03,  1.81it/s]"
     ]
    },
    {
     "name": "stdout",
     "output_type": "stream",
     "text": [
      "Mean Absolute Error (MAE): 0.1807750016450882\n",
      "Finished processing file 4/10 in 0.57 seconds\n",
      "\n"
     ]
    },
    {
     "name": "stderr",
     "output_type": "stream",
     "text": [
      "Processing Files:  50%|█████     | 5/10 [00:02<00:02,  1.72it/s]"
     ]
    },
    {
     "name": "stdout",
     "output_type": "stream",
     "text": [
      "Mean Absolute Error (MAE): 0.230383962392807\n",
      "Finished processing file 5/10 in 0.63 seconds\n",
      "\n"
     ]
    },
    {
     "name": "stderr",
     "output_type": "stream",
     "text": [
      "Processing Files:  60%|██████    | 6/10 [00:03<00:02,  1.71it/s]"
     ]
    },
    {
     "name": "stdout",
     "output_type": "stream",
     "text": [
      "Mean Absolute Error (MAE): 0.11643332988023758\n",
      "Finished processing file 6/10 in 0.60 seconds\n",
      "\n"
     ]
    },
    {
     "name": "stderr",
     "output_type": "stream",
     "text": [
      "Processing Files:  70%|███████   | 7/10 [00:03<00:01,  1.69it/s]"
     ]
    },
    {
     "name": "stdout",
     "output_type": "stream",
     "text": [
      "Mean Absolute Error (MAE): 0.20810644328594208\n",
      "Finished processing file 7/10 in 0.61 seconds\n",
      "\n"
     ]
    },
    {
     "name": "stderr",
     "output_type": "stream",
     "text": [
      "Processing Files:  80%|████████  | 8/10 [00:04<00:01,  1.62it/s]"
     ]
    },
    {
     "name": "stdout",
     "output_type": "stream",
     "text": [
      "Mean Absolute Error (MAE): 0.2530061602592468\n",
      "Finished processing file 8/10 in 0.67 seconds\n",
      "\n"
     ]
    },
    {
     "name": "stderr",
     "output_type": "stream",
     "text": [
      "Processing Files:  90%|█████████ | 9/10 [00:05<00:00,  1.54it/s]"
     ]
    },
    {
     "name": "stdout",
     "output_type": "stream",
     "text": [
      "Mean Absolute Error (MAE): 0.17746970057487488\n",
      "Finished processing file 9/10 in 0.72 seconds\n",
      "\n"
     ]
    },
    {
     "name": "stderr",
     "output_type": "stream",
     "text": [
      "Processing Files: 100%|██████████| 10/10 [00:05<00:00,  1.68it/s]"
     ]
    },
    {
     "name": "stdout",
     "output_type": "stream",
     "text": [
      "Mean Absolute Error (MAE): 0.14538277685642242\n",
      "Finished processing file 10/10 in 0.60 seconds\n",
      "\n"
     ]
    },
    {
     "name": "stderr",
     "output_type": "stream",
     "text": [
      "\n"
     ]
    }
   ],
   "source": [
    "\n",
    "# Jupyter Notebook - File Paths and Data Preparation\n",
    "file_paths = [\n",
    "    f\"/Users/elireadnour/Documents/Computer/Classes/machineLearning/MLFinal/jane-street-real-time-market-data-forecasting/train.parquet/partition_id={i}/part-0.parquet\" for i in range(10)\n",
    "]\n",
    "columns_needed = [\n",
    "    'date_id', 'time_id', 'symbol_id', 'weight', 'feature_00', 'feature_01',\n",
    "    'feature_02', 'feature_03', 'feature_04', 'feature_05', 'feature_06',\n",
    "    'feature_07', 'feature_08', 'feature_09', 'feature_10', 'feature_11',\n",
    "    'feature_12', 'feature_13', 'feature_14', 'feature_15', 'feature_16',\n",
    "    'feature_17', 'feature_18', 'feature_19', 'feature_20', 'feature_21',\n",
    "    'feature_22', 'feature_23', 'feature_24', 'feature_25', 'feature_26',\n",
    "    'feature_27', 'feature_28', 'feature_29', 'feature_30', 'feature_31',\n",
    "    'feature_32', 'feature_33', 'feature_34', 'feature_35', 'feature_36',\n",
    "    'feature_37', 'feature_38', 'feature_39', 'feature_40', 'feature_41',\n",
    "    'feature_42', 'feature_43', 'feature_44', 'feature_45', 'feature_46',\n",
    "    'feature_47', 'feature_48', 'feature_49', 'feature_50', 'feature_51',\n",
    "    'feature_52', 'feature_53', 'feature_54', 'feature_55', 'feature_56',\n",
    "    'feature_57', 'feature_58', 'feature_59', 'feature_60', 'feature_61',\n",
    "    'feature_62', 'feature_63', 'feature_64', 'feature_65', 'feature_66',\n",
    "    'feature_67', 'feature_68', 'feature_69', 'feature_70', 'feature_71',\n",
    "    'feature_72', 'feature_73', 'feature_74', 'feature_75', 'feature_76',\n",
    "    'feature_77', 'feature_78', 'responder_6'\n",
    "]\n",
    "\n",
    "# Process each dataset iteratively without storing all in memory\n",
    "previous_file_path = None\n",
    "for i, current_file_path in enumerate(tqdm(file_paths, desc=\"Processing Files\")):\n",
    "    start_time = time.time()\n",
    "    df = read_data_with_lags(current_file_path, previous_file_path, columns_needed)\n",
    "    df = clean_data(df)\n",
    "    #df = anonomyize(df)\n",
    "    X, y = preprocess_data(df, target_column='responder_6', n_components=0.95)\n",
    "    model = train_model(X, y)\n",
    "    \n",
    "    # Clear memory\n",
    "    del df, X, y\n",
    "    gc.collect()  # Force garbage collection\n",
    "    \n",
    "    end_time = time.time()\n",
    "    print(f\"Finished processing file {i+1}/{len(file_paths)} in {end_time - start_time:.2f} seconds\\n\")\n",
    "    \n",
    "    # Update previous file path\n",
    "    previous_file_path = current_file_path\n"
   ]
  },
  {
   "cell_type": "code",
   "execution_count": 61,
   "metadata": {},
   "outputs": [
    {
     "data": {
      "text/plain": [
       "'TO-do\\n- Function to load datasets --> Use \\n- Function to clean datasets\\n- Function to train XGB \\n- Function to train SVM\\n    - Reduce data with PCA\\n- Display data\\n\\n\\n'"
      ]
     },
     "execution_count": 61,
     "metadata": {},
     "output_type": "execute_result"
    }
   ],
   "source": [
    "'''TO-do\n",
    "- Function to load datasets --> Use \n",
    "- Function to clean datasets\n",
    "- Function to train XGB \n",
    "- Function to train SVM\n",
    "    - Reduce data with PCA\n",
    "- Display data\n",
    "\n",
    "\n",
    "'''"
   ]
  },
  {
   "cell_type": "markdown",
   "metadata": {},
   "source": [
    "XGBoost"
   ]
  },
  {
   "cell_type": "code",
   "execution_count": 62,
   "metadata": {},
   "outputs": [],
   "source": [
    "# git add .\n",
    "# git commit -m \"commit message\"\n",
    "# git push origin main"
   ]
  }
 ],
 "metadata": {
  "kernelspec": {
   "display_name": "base",
   "language": "python",
   "name": "python3"
  },
  "language_info": {
   "codemirror_mode": {
    "name": "ipython",
    "version": 3
   },
   "file_extension": ".py",
   "mimetype": "text/x-python",
   "name": "python",
   "nbconvert_exporter": "python",
   "pygments_lexer": "ipython3",
   "version": "3.12.3"
  }
 },
 "nbformat": 4,
 "nbformat_minor": 2
}
