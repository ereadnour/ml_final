{
 "cells": [
  {
   "cell_type": "code",
   "execution_count": 4,
   "metadata": {},
   "outputs": [
    {
     "name": "stderr",
     "output_type": "stream",
     "text": [
      "/var/folders/vm/cn943f0n4cg3r9rx70rgb_ww0000gn/T/ipykernel_85210/2451887718.py:21: DeprecationWarning: `LazyFrame.fetch` is deprecated. `LazyFrame.fetch` is deprecated; use `LazyFrame.collect` instead, in conjunction with a call to `head`.\n",
      "  current_file = current_file.fetch(10000)\n"
     ]
    },
    {
     "name": "stdout",
     "output_type": "stream",
     "text": [
      "Mean Absolute Error (MAE): 0.34030935168266296\n"
     ]
    },
    {
     "name": "stderr",
     "output_type": "stream",
     "text": [
      "/var/folders/vm/cn943f0n4cg3r9rx70rgb_ww0000gn/T/ipykernel_85210/2451887718.py:21: DeprecationWarning: `LazyFrame.fetch` is deprecated. `LazyFrame.fetch` is deprecated; use `LazyFrame.collect` instead, in conjunction with a call to `head`.\n",
      "  current_file = current_file.fetch(10000)\n"
     ]
    },
    {
     "name": "stdout",
     "output_type": "stream",
     "text": [
      "Mean Absolute Error (MAE): 0.2070946991443634\n"
     ]
    },
    {
     "name": "stderr",
     "output_type": "stream",
     "text": [
      "/var/folders/vm/cn943f0n4cg3r9rx70rgb_ww0000gn/T/ipykernel_85210/2451887718.py:21: DeprecationWarning: `LazyFrame.fetch` is deprecated. `LazyFrame.fetch` is deprecated; use `LazyFrame.collect` instead, in conjunction with a call to `head`.\n",
      "  current_file = current_file.fetch(10000)\n"
     ]
    },
    {
     "name": "stdout",
     "output_type": "stream",
     "text": [
      "Mean Absolute Error (MAE): 0.2338617593050003\n"
     ]
    },
    {
     "name": "stderr",
     "output_type": "stream",
     "text": [
      "/var/folders/vm/cn943f0n4cg3r9rx70rgb_ww0000gn/T/ipykernel_85210/2451887718.py:21: DeprecationWarning: `LazyFrame.fetch` is deprecated. `LazyFrame.fetch` is deprecated; use `LazyFrame.collect` instead, in conjunction with a call to `head`.\n",
      "  current_file = current_file.fetch(10000)\n"
     ]
    },
    {
     "name": "stdout",
     "output_type": "stream",
     "text": [
      "Mean Absolute Error (MAE): 0.2221541553735733\n"
     ]
    },
    {
     "name": "stderr",
     "output_type": "stream",
     "text": [
      "/var/folders/vm/cn943f0n4cg3r9rx70rgb_ww0000gn/T/ipykernel_85210/2451887718.py:21: DeprecationWarning: `LazyFrame.fetch` is deprecated. `LazyFrame.fetch` is deprecated; use `LazyFrame.collect` instead, in conjunction with a call to `head`.\n",
      "  current_file = current_file.fetch(10000)\n"
     ]
    },
    {
     "name": "stdout",
     "output_type": "stream",
     "text": [
      "Mean Absolute Error (MAE): 0.2914510667324066\n"
     ]
    },
    {
     "name": "stderr",
     "output_type": "stream",
     "text": [
      "/var/folders/vm/cn943f0n4cg3r9rx70rgb_ww0000gn/T/ipykernel_85210/2451887718.py:21: DeprecationWarning: `LazyFrame.fetch` is deprecated. `LazyFrame.fetch` is deprecated; use `LazyFrame.collect` instead, in conjunction with a call to `head`.\n",
      "  current_file = current_file.fetch(10000)\n"
     ]
    },
    {
     "name": "stdout",
     "output_type": "stream",
     "text": [
      "Mean Absolute Error (MAE): 0.14291422069072723\n"
     ]
    },
    {
     "name": "stderr",
     "output_type": "stream",
     "text": [
      "/var/folders/vm/cn943f0n4cg3r9rx70rgb_ww0000gn/T/ipykernel_85210/2451887718.py:21: DeprecationWarning: `LazyFrame.fetch` is deprecated. `LazyFrame.fetch` is deprecated; use `LazyFrame.collect` instead, in conjunction with a call to `head`.\n",
      "  current_file = current_file.fetch(10000)\n"
     ]
    },
    {
     "name": "stdout",
     "output_type": "stream",
     "text": [
      "Mean Absolute Error (MAE): 0.26261773705482483\n"
     ]
    },
    {
     "name": "stderr",
     "output_type": "stream",
     "text": [
      "/var/folders/vm/cn943f0n4cg3r9rx70rgb_ww0000gn/T/ipykernel_85210/2451887718.py:21: DeprecationWarning: `LazyFrame.fetch` is deprecated. `LazyFrame.fetch` is deprecated; use `LazyFrame.collect` instead, in conjunction with a call to `head`.\n",
      "  current_file = current_file.fetch(10000)\n"
     ]
    },
    {
     "name": "stdout",
     "output_type": "stream",
     "text": [
      "Mean Absolute Error (MAE): 0.29912832379341125\n"
     ]
    },
    {
     "name": "stderr",
     "output_type": "stream",
     "text": [
      "/var/folders/vm/cn943f0n4cg3r9rx70rgb_ww0000gn/T/ipykernel_85210/2451887718.py:21: DeprecationWarning: `LazyFrame.fetch` is deprecated. `LazyFrame.fetch` is deprecated; use `LazyFrame.collect` instead, in conjunction with a call to `head`.\n",
      "  current_file = current_file.fetch(10000)\n"
     ]
    },
    {
     "name": "stdout",
     "output_type": "stream",
     "text": [
      "Mean Absolute Error (MAE): 0.2049705982208252\n"
     ]
    },
    {
     "name": "stderr",
     "output_type": "stream",
     "text": [
      "/var/folders/vm/cn943f0n4cg3r9rx70rgb_ww0000gn/T/ipykernel_85210/2451887718.py:21: DeprecationWarning: `LazyFrame.fetch` is deprecated. `LazyFrame.fetch` is deprecated; use `LazyFrame.collect` instead, in conjunction with a call to `head`.\n",
      "  current_file = current_file.fetch(10000)\n"
     ]
    },
    {
     "name": "stdout",
     "output_type": "stream",
     "text": [
      "Mean Absolute Error (MAE): 0.16588710248470306\n"
     ]
    }
   ],
   "source": [
    "import polars as pl\n",
    "from sklearn.decomposition import PCA\n",
    "from sklearn.model_selection import train_test_split\n",
    "from sklearn.metrics import mean_absolute_error\n",
    "from xgboost import XGBRegressor\n",
    "import gc\n",
    "\n",
    "# Step 1: Read Data with Lags\n",
    "def read_data_with_lags(current_file_path, previous_file_path, columns_needed, lag_column=\"responder_6\", lag_name=\"responder_6_lag_1\"):\n",
    "    \"\"\"Read the current file and add lagged data from the previous file.\"\"\"\n",
    "    # Read current data\n",
    "    current_file = pl.scan_parquet(current_file_path).select(columns_needed)\n",
    "    \n",
    "    # If there is a previous file, add lagged data\n",
    "    if previous_file_path:\n",
    "        previous_file = pl.scan_parquet(previous_file_path).select([\"time_id\", lag_column])\n",
    "        lagged_data = previous_file.rename({lag_column: lag_name})\n",
    "        current_file = current_file.join(lagged_data, on=\"time_id\", how=\"left\")\n",
    "    \n",
    "    # Collect to DataFrame\n",
    "    current_file = current_file.fetch(10000)\n",
    "    return current_file\n",
    "\n",
    "# Step 2: Clean Data\n",
    "def clean_data(df):\n",
    "    \"\"\"Clean the data by handling missing values.\"\"\"\n",
    "    df = df.fill_null(strategy=\"backward\").fill_null(strategy=\"forward\").fill_null(0)\n",
    "    return df\n",
    "\n",
    "# Placeholder function for anonymizing data\n",
    "def anonomyize(df):\n",
    "    pass\n",
    "\n",
    "# Step 3: Preprocess Data\n",
    "def preprocess_data(df, target_column='responder_6', n_components=0.95):\n",
    "    \"\"\"Apply PCA to reduce dimensions.\"\"\"\n",
    "    # Drop the target column and convert to numpy\n",
    "    X = df.drop(target_column).to_numpy()\n",
    "    y = df[target_column].to_numpy()\n",
    "\n",
    "    # Apply PCA\n",
    "    pca = PCA(n_components=n_components)\n",
    "    X_pca = pca.fit_transform(X)\n",
    "    return X_pca, y\n",
    "\n",
    "# Step 4: Train Model\n",
    "def train_model(X, y):\n",
    "    \"\"\"Train the model using XGBoost.\"\"\"\n",
    "    X_train, X_test, y_train, y_test = train_test_split(X, y, test_size=0.2, random_state=42)\n",
    "    model = XGBRegressor(objective='reg:squarederror', n_estimators=100, random_state=42)\n",
    "    model.fit(X_train, y_train)\n",
    "    y_pred = model.predict(X_test)\n",
    "    mae = mean_absolute_error(y_test, y_pred)\n",
    "    print(f\"Mean Absolute Error (MAE): {mae}\")\n",
    "    return model\n",
    "\n",
    "# Jupyter Notebook - File Paths and Data Preparation\n",
    "file_paths = [\n",
    "    f\"/Users/elireadnour/Documents/Computer/Classes/machineLearning/MLFinal/jane-street-real-time-market-data-forecasting/train.parquet/partition_id={i}/part-0.parquet\" for i in range(10)\n",
    "]\n",
    "columns_needed = [\n",
    "    'date_id', 'time_id', 'symbol_id', 'weight', 'feature_00', 'feature_01',\n",
    "    'feature_02', 'feature_03', 'feature_04', 'feature_05', 'feature_06',\n",
    "    'feature_07', 'feature_08', 'feature_09', 'feature_10', 'feature_11',\n",
    "    'feature_12', 'feature_13', 'feature_14', 'feature_15', 'feature_16',\n",
    "    'feature_17', 'feature_18', 'feature_19', 'feature_20', 'feature_21',\n",
    "    'feature_22', 'feature_23', 'feature_24', 'feature_25', 'feature_26',\n",
    "    'feature_27', 'feature_28', 'feature_29', 'feature_30', 'feature_31',\n",
    "    'feature_32', 'feature_33', 'feature_34', 'feature_35', 'feature_36',\n",
    "    'feature_37', 'feature_38', 'feature_39', 'feature_40', 'feature_41',\n",
    "    'feature_42', 'feature_43', 'feature_44', 'feature_45', 'feature_46',\n",
    "    'feature_47', 'feature_48', 'feature_49', 'feature_50', 'feature_51',\n",
    "    'feature_52', 'feature_53', 'feature_54', 'feature_55', 'feature_56',\n",
    "    'feature_57', 'feature_58', 'feature_59', 'feature_60', 'feature_61',\n",
    "    'feature_62', 'feature_63', 'feature_64', 'feature_65', 'feature_66',\n",
    "    'feature_67', 'feature_68', 'feature_69', 'feature_70', 'feature_71',\n",
    "    'feature_72', 'feature_73', 'feature_74', 'feature_75', 'feature_76',\n",
    "    'feature_77', 'feature_78', 'responder_6'\n",
    "]\n",
    "\n",
    "# Process each dataset iteratively without storing all in memory\n",
    "previous_file_path = None\n",
    "for current_file_path in file_paths:\n",
    "    df = read_data_with_lags(current_file_path, previous_file_path, columns_needed)\n",
    "    df = clean_data(df)\n",
    "    X, y = preprocess_data(df, target_column='responder_6', n_components=0.95)\n",
    "    model = train_model(X, y)\n",
    "    \n",
    "    # Clear memory\n",
    "    del df, X, y\n",
    "    gc.collect()  # Force garbage collection\n",
    "    \n",
    "    # Update previous file path\n",
    "    previous_file_path = current_file_path\n"
   ]
  },
  {
   "cell_type": "code",
   "execution_count": null,
   "metadata": {},
   "outputs": [],
   "source": []
  }
 ],
 "metadata": {
  "kernelspec": {
   "display_name": "base",
   "language": "python",
   "name": "python3"
  },
  "language_info": {
   "codemirror_mode": {
    "name": "ipython",
    "version": 3
   },
   "file_extension": ".py",
   "mimetype": "text/x-python",
   "name": "python",
   "nbconvert_exporter": "python",
   "pygments_lexer": "ipython3",
   "version": "3.12.3"
  }
 },
 "nbformat": 4,
 "nbformat_minor": 2
}
